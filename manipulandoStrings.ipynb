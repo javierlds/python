{
 "cells": [
  {
   "cell_type": "code",
   "execution_count": 19,
   "id": "2659c9ef-8f88-4018-945f-467d71d0cd14",
   "metadata": {},
   "outputs": [
    {
     "name": "stdin",
     "output_type": "stream",
     "text": [
      "digite su nombre jose javier paez\n",
      "digite su edad 35\n"
     ]
    },
    {
     "name": "stdout",
     "output_type": "stream",
     "text": [
      "tu nombre es: jose javier paez y tienes 35\n"
     ]
    }
   ],
   "source": [
    "#Manipulando strings con python\n",
    "#concatenacion de cadenas con +\n",
    "\n",
    "str1 = input(\"digite su nombre\")\n",
    "str2 = input(\"digite su edad\")\n",
    "print(\"tu nombre es: \" + str1 + \" y tienes \"+  str2)"
   ]
  },
  {
   "cell_type": "code",
   "execution_count": 18,
   "id": "6d115124-4f2c-4402-a6bf-64b983d67c00",
   "metadata": {},
   "outputs": [
    {
     "name": "stdout",
     "output_type": "stream",
     "text": [
      "primer forma de concatenacion: El señor Jose tiene 68  años\n",
      "segunda forma de concatenacion: El señor Jose tiene 68 años\n"
     ]
    }
   ],
   "source": [
    "#concatenando cadenas con format\n",
    "full_name = f'El señor {str1} tiene {str2}  años'\n",
    "print(\"primer forma de concatenacion: \" + full_name)\n",
    "\n",
    "#Otra forma de usar el format\n",
    "full_name2 = 'El señor {} tiene {} años'.format(str1,str2)\n",
    "print(\"segunda forma de concatenacion: \" + full_name2)"
   ]
  },
  {
   "cell_type": "code",
   "execution_count": 14,
   "id": "d5b598d7-a586-429c-b77a-3c9c6974114e",
   "metadata": {},
   "outputs": [
    {
     "name": "stdout",
     "output_type": "stream",
     "text": [
      "I'm javier paez , I'm 34 years old\n"
     ]
    }
   ],
   "source": [
    "#Utilizando apostrofes\n",
    "cadena = \"I'm javier paez , I'm 34 years old\"\n",
    "print(cadena)"
   ]
  },
  {
   "cell_type": "code",
   "execution_count": 5,
   "id": "a90a8a78-2c94-4960-8b90-cdd5fe91b92d",
   "metadata": {},
   "outputs": [
    {
     "name": "stdin",
     "output_type": "stream",
     "text": [
      "digite su nombre javier augusto paez\n"
     ]
    },
    {
     "name": "stdout",
     "output_type": "stream",
     "text": [
      "no tiene el acceso permitido\n"
     ]
    }
   ],
   "source": [
    "# Para la longitud de una cadena\n",
    "nombre = input(\"digite su nombre\")\n",
    "if len(nombre) >7:\n",
    "    print(\"no tiene el acceso permitido\")\n",
    "else:\n",
    "    print(\"tiene acceso al sistema\")\n"
   ]
  },
  {
   "cell_type": "code",
   "execution_count": 25,
   "id": "d448852d-7b16-45cb-be3c-90b0df2a1936",
   "metadata": {},
   "outputs": [
    {
     "name": "stdout",
     "output_type": "stream",
     "text": [
      "5\n",
      "La cadena \"jose javier paez\" tiene 1 ocurrencias del texto a buscar javier\n"
     ]
    }
   ],
   "source": [
    "#Busqueda dentro de una cadena\n",
    "textoFind = \"javier\"\n",
    "indice = str1.find(textoFind)\n",
    "print(indice)\n",
    "\n",
    "#ocurrencia en una cadena\n",
    "ocurrencia = str1.count(textoFind)\n",
    "print(f'La cadena \"{str1}\" tiene {ocurrencia} ocurrencias del texto a buscar \"{textoFind}\")"
   ]
  }
 ],
 "metadata": {
  "kernelspec": {
   "display_name": "Python 3 (ipykernel)",
   "language": "python",
   "name": "python3"
  },
  "language_info": {
   "codemirror_mode": {
    "name": "ipython",
    "version": 3
   },
   "file_extension": ".py",
   "mimetype": "text/x-python",
   "name": "python",
   "nbconvert_exporter": "python",
   "pygments_lexer": "ipython3",
   "version": "3.11.5"
  }
 },
 "nbformat": 4,
 "nbformat_minor": 5
}
