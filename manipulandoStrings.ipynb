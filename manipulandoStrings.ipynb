{
 "cells": [
  {
   "cell_type": "code",
   "execution_count": 19,
   "id": "2659c9ef-8f88-4018-945f-467d71d0cd14",
   "metadata": {},
   "outputs": [
    {
     "name": "stdin",
     "output_type": "stream",
     "text": [
      "digite su nombre jose javier paez\n",
      "digite su edad 35\n"
     ]
    },
    {
     "name": "stdout",
     "output_type": "stream",
     "text": [
      "tu nombre es: jose javier paez y tienes 35\n"
     ]
    }
   ],
   "source": [
    "#Manipulando strings con python\n",
    "#concatenacion de cadenas con +\n",
    "\n",
    "str1 = input(\"digite su nombre\")\n",
    "str2 = input(\"digite su edad\")\n",
    "print(\"tu nombre es: \" + str1 + \" y tienes \"+  str2)"
   ]
  },
  {
   "cell_type": "code",
   "execution_count": 22,
   "id": "0edfafa4-a5ae-4c1f-9d88-ed969bfded3f",
   "metadata": {},
   "outputs": [
    {
     "name": "stdout",
     "output_type": "stream",
     "text": [
      "total letras a: 3\n",
      "total letras i: 1\n"
     ]
    }
   ],
   "source": [
    "#contar cuantas veces esta algo en un texto\n",
    "text1 = \"Javier Augusto Paez Cruz\"\n",
    "print(f\"total letras a: {text1.lower().count('a')}\" ) # se pueden unir funciones primero convirtiendo a minuscula y luego contando las ocurrencias\n",
    "print(f\"total letras i: {text1.lower().count('i')}\" ) # se pueden unir funciones\n"
   ]
  },
  {
   "cell_type": "code",
   "execution_count": 23,
   "id": "48754701-4b70-424b-aa2f-f3a6bd12af1e",
   "metadata": {},
   "outputs": [
    {
     "name": "stdout",
     "output_type": "stream",
     "text": [
      "hOLA MI nOMBRE ES JaVIER aUGUSTO PaEZ\n"
     ]
    }
   ],
   "source": [
    "# uso de swapacase para invertir, si esta minuscula pone mayuscula y viceversa\n",
    "text2 = \"Hola mi Nombre es jAvier Augusto pAez\"\n",
    "print(text2.swapcase())"
   ]
  },
  {
   "cell_type": "code",
   "execution_count": 25,
   "id": "92770020-cb48-44e1-85df-374752da2618",
   "metadata": {},
   "outputs": [
    {
     "name": "stdout",
     "output_type": "stream",
     "text": [
      "True\n"
     ]
    }
   ],
   "source": [
    "#cuando un texto inicia en \n",
    "text3 = \"APRENDIENDO a programar con python\"\n",
    "print(text3.lower().startswith('aprendiendo'))"
   ]
  },
  {
   "cell_type": "code",
   "execution_count": 31,
   "id": "e8453fce-9762-48de-a12d-a1bb4f076ee5",
   "metadata": {},
   "outputs": [
    {
     "name": "stdout",
     "output_type": "stream",
     "text": [
      "False\n"
     ]
    }
   ],
   "source": [
    "#cuando un texto finaliza en\n",
    "text4 = \"agencia Nacional de Infraestructura (ANI) y Coviandina informaron a los usuarios las acciones pactadas para el próximo puente festivo de Reyes (6, 7 y 8 de enero) donde se espera haya gran afluencia de vehículos\"\n",
    "print(text4.lower().endswith('vehículoss'))"
   ]
  },
  {
   "cell_type": "code",
   "execution_count": 29,
   "id": "aa0f04b8-46ad-47d1-a51b-0740f579954e",
   "metadata": {},
   "outputs": [
    {
     "name": "stdout",
     "output_type": "stream",
     "text": [
      "ooogenciooo nooocionoool de infroooestructurooo (oooni) y coviooondinooo informoooron ooo los usuooorios looos ooocciones poooctooodooos pooorooo el próximo puente festivo de reyes (6, 7 y 8 de enero) donde se esperooo hoooyooo grooon ooofluenciooo de vehículos\n"
     ]
    }
   ],
   "source": [
    "#utilizando replace\n",
    "print(text4.lower().replace('a','ooo'))"
   ]
  },
  {
   "cell_type": "code",
   "execution_count": 32,
   "id": "2ef826fc-62bd-46d2-9144-fd015491069a",
   "metadata": {},
   "outputs": [
    {
     "name": "stdout",
     "output_type": "stream",
     "text": [
      "Agencia nacional de infraestructura (ani) y coviandina informaron a los usuarios las acciones pactadas para el próximo puente festivo de reyes (6, 7 y 8 de enero) donde se espera haya gran afluencia de vehículos\n"
     ]
    }
   ],
   "source": [
    "#pasando la primera letra a mayuscula\n",
    "print(text4.capitalize())"
   ]
  },
  {
   "cell_type": "code",
   "execution_count": 33,
   "id": "961a63dd-1889-4245-85e5-9a3855198681",
   "metadata": {},
   "outputs": [
    {
     "name": "stdout",
     "output_type": "stream",
     "text": [
      "Agencia Nacional De Infraestructura (Ani) Y Coviandina Informaron A Los Usuarios Las Acciones Pactadas Para El Próximo Puente Festivo De Reyes (6, 7 Y 8 De Enero) Donde Se Espera Haya Gran Afluencia De Vehículos\n"
     ]
    }
   ],
   "source": [
    "#cada una de la palabras en mayuscula\n",
    "print(text4.title())"
   ]
  },
  {
   "cell_type": "code",
   "execution_count": 35,
   "id": "5783da78-2377-495d-bbf3-fd5a942d4991",
   "metadata": {},
   "outputs": [
    {
     "name": "stdout",
     "output_type": "stream",
     "text": [
      "False\n"
     ]
    }
   ],
   "source": [
    "#verificando si el texto es un digito\n",
    "text5 = \"355f\"\n",
    "print(text5.isdigit())"
   ]
  },
  {
   "cell_type": "code",
   "execution_count": 18,
   "id": "6d115124-4f2c-4402-a6bf-64b983d67c00",
   "metadata": {},
   "outputs": [
    {
     "name": "stdout",
     "output_type": "stream",
     "text": [
      "primer forma de concatenacion: El señor Jose tiene 68  años\n",
      "segunda forma de concatenacion: El señor Jose tiene 68 años\n"
     ]
    }
   ],
   "source": [
    "#concatenando cadenas con format\n",
    "full_name = f'El señor {str1} tiene {str2}  años'\n",
    "print(\"primer forma de concatenacion: \" + full_name)\n",
    "\n",
    "#Otra forma de usar el format\n",
    "full_name2 = 'El señor {} tiene {} años'.format(str1,str2)\n",
    "print(\"segunda forma de concatenacion: \" + full_name2)"
   ]
  },
  {
   "cell_type": "code",
   "execution_count": 14,
   "id": "d5b598d7-a586-429c-b77a-3c9c6974114e",
   "metadata": {},
   "outputs": [
    {
     "name": "stdout",
     "output_type": "stream",
     "text": [
      "I'm javier paez , I'm 34 years old\n"
     ]
    }
   ],
   "source": [
    "#Utilizando apostrofes\n",
    "cadena = \"I'm javier paez , I'm 34 years old\"\n",
    "print(cadena)"
   ]
  },
  {
   "cell_type": "code",
   "execution_count": 5,
   "id": "a90a8a78-2c94-4960-8b90-cdd5fe91b92d",
   "metadata": {},
   "outputs": [
    {
     "name": "stdin",
     "output_type": "stream",
     "text": [
      "digite su nombre javier augusto paez\n"
     ]
    },
    {
     "name": "stdout",
     "output_type": "stream",
     "text": [
      "no tiene el acceso permitido\n"
     ]
    }
   ],
   "source": [
    "# Para la longitud de una cadena\n",
    "nombre = input(\"digite su nombre\")\n",
    "if len(nombre) > 7:\n",
    "    print(\"no tiene el acceso permitido\")\n",
    "else:\n",
    "    print(\"tiene acceso al sistema\")\n"
   ]
  },
  {
   "cell_type": "code",
   "execution_count": 25,
   "id": "d448852d-7b16-45cb-be3c-90b0df2a1936",
   "metadata": {},
   "outputs": [
    {
     "name": "stdout",
     "output_type": "stream",
     "text": [
      "5\n",
      "La cadena \"jose javier paez\" tiene 1 ocurrencias del texto a buscar javier\n"
     ]
    }
   ],
   "source": [
    "#Busqueda dentro de una cadena\n",
    "textoFind = \"javier\"\n",
    "indice = str1.find(textoFind)\n",
    "print(indice)\n",
    "\n",
    "#ocurrencia en una cadena\n",
    "ocurrencia = str1.count(textoFind)\n",
    "print(f'La cadena \"{str1}\" tiene {ocurrencia} ocurrencias del texto a buscar \"{textoFind}\")"
   ]
  },
  {
   "cell_type": "code",
   "execution_count": 16,
   "id": "3c7c6c89-06fe-4d11-8be1-56b51f294f07",
   "metadata": {},
   "outputs": [
    {
     "name": "stdin",
     "output_type": "stream",
     "text": [
      " Seleccione una opcion\n",
      "                    1. Mayuscula \n",
      "                    2. Minuscula\n",
      "                    2\n",
      "Digite un texto JAVIER PAEZ\n"
     ]
    },
    {
     "name": "stdout",
     "output_type": "stream",
     "text": [
      "javier paez\n"
     ]
    }
   ],
   "source": [
    "#Para dejar las cadenas en mayusculas\n",
    "def mayuscula(cadena):\n",
    "    mayuscula = cadena.upper() # pasando a mayuscula\n",
    "    return mayuscula\n",
    "\n",
    "def minuscula(cadenamin):\n",
    "    minuscula = cadenamin.lower() #pasando a minuscula\n",
    "    return minuscula\n",
    "\n",
    "\n",
    "if __name__ == '__main__':\n",
    "    while True:\n",
    "        try:\n",
    "            menu =input(\"\"\" Seleccione una opcion\n",
    "                    1. Mayuscula \n",
    "                    2. Minuscula\n",
    "                   \"\"\")\n",
    "            if int(menu) == 1:\n",
    "                texto = input('Digite un texto')\n",
    "                print(mayuscula(texto))\n",
    "                break\n",
    "            elif int(menu) == 2:\n",
    "                texto = input('Digite un texto')\n",
    "                print(minuscula(texto))\n",
    "                break\n",
    "            else:\n",
    "                print(\"Opcion invalida\")\n",
    "        except ValueError:\n",
    "            print(\"Por favor indique un numero valido\")\n",
    "        \n",
    "\n",
    "    \n"
   ]
  },
  {
   "cell_type": "code",
   "execution_count": 3,
   "id": "31de9aac-ca38-4559-a436-70d4565173d1",
   "metadata": {},
   "outputs": [
    {
     "name": "stdout",
     "output_type": "stream",
     "text": [
      "['Javier', 'Augusto', 'Paez', 'Cruz']\n"
     ]
    }
   ],
   "source": [
    "#para dividir una cadena en una lista de subcadenas \n",
    "cadena2 = 'Javier Augusto Paez Cruz'\n",
    "palabras = cadena2.split(\" \")\n",
    "print(palabras)"
   ]
  },
  {
   "cell_type": "code",
   "execution_count": 7,
   "id": "6f68c262-c3c9-4ac7-bf49-5f271f449384",
   "metadata": {},
   "outputs": [
    {
     "name": "stdout",
     "output_type": "stream",
     "text": [
      "True\n",
      "Existe la palabra \"tiene\" en \"La programacion en python tiene muchas salidas laborales\"\n"
     ]
    }
   ],
   "source": [
    "#Para poder saber si un texto esta dentro de otra cadena\n",
    "textoEj = \"La programacion en python tiene muchas salidas laborales\"\n",
    "existeText = 'mucha' in textoEj\n",
    "print(existeText)\n",
    "\n",
    "#validando con un if\n",
    "if 'tiene' in textoEj:\n",
    "    print(f'Existe la palabra \"tiene\" en \"{textoEj}\"')"
   ]
  },
  {
   "cell_type": "code",
   "execution_count": 13,
   "id": "6fb9763b-5434-4698-bc31-1e7134f34ce9",
   "metadata": {},
   "outputs": [
    {
     "name": "stdout",
     "output_type": "stream",
     "text": [
      "total vocales: 20\n",
      "vocales encontradas :a,o,a,a,i,o,e,o,i,e,e,u,a,a,i,a,a,o,a,e\n"
     ]
    }
   ],
   "source": [
    "#Detectar vocales en una cadena\n",
    "vocales = \"aeiouAEIOU\"\n",
    "vocalesFind = []  #el arreglo si permite duplicados\n",
    "totalVocales = 0\n",
    "for caracter in textoEj:\n",
    "    if caracter in vocales:\n",
    "        totalVocales += 1\n",
    "        vocalesFind.append(caracter) # voy agregando caracter a caracter\n",
    "\n",
    "print(\"total vocales: \" + str(totalVocales))\n",
    "print(\"vocales encontradas :\" + ','.join(vocalesFind))"
   ]
  },
  {
   "cell_type": "code",
   "execution_count": 15,
   "id": "7b5eddc5-ef68-4db7-b713-89c96b0d7eab",
   "metadata": {},
   "outputs": [
    {
     "name": "stdout",
     "output_type": "stream",
     "text": [
      "total vocales: 20\n",
      "vocales encontradas :a,e,i,o,u\n"
     ]
    }
   ],
   "source": [
    "#Detectar vocales en una cadena eliminando los repetidos usando set\n",
    "vocales = \"aeiouAEIOU\"\n",
    "vocalesFind = set()  # el conjunto no permite duplicados\n",
    "totalVocales = 0\n",
    "for caracter in textoEj:\n",
    "    if caracter in vocales:\n",
    "        totalVocales += 1\n",
    "        vocalesFind.add(caracter) # adiciono cada caracter al conjunto\n",
    "\n",
    "vocalesOrdenadas = sorted(list(vocalesFind)) # se convierte a lista para poder ordenar\n",
    "print(\"total vocales: \" + str(totalVocales))\n",
    "print(\"vocales encontradas :\" + ','.join(vocalesOrdenadas))"
   ]
  }
 ],
 "metadata": {
  "kernelspec": {
   "display_name": "Python 3 (ipykernel)",
   "language": "python",
   "name": "python3"
  },
  "language_info": {
   "codemirror_mode": {
    "name": "ipython",
    "version": 3
   },
   "file_extension": ".py",
   "mimetype": "text/x-python",
   "name": "python",
   "nbconvert_exporter": "python",
   "pygments_lexer": "ipython3",
   "version": "3.11.5"
  }
 },
 "nbformat": 4,
 "nbformat_minor": 5
}
