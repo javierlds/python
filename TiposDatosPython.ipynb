{
 "cells": [
  {
   "cell_type": "code",
   "execution_count": 2,
   "id": "04fd3079-884a-413b-9a29-81c80cf9f82f",
   "metadata": {},
   "outputs": [
    {
     "name": "stdout",
     "output_type": "stream",
     "text": [
      "tu edad es: 34 y peso:89\n"
     ]
    }
   ],
   "source": [
    "#Tipo de dato int\n",
    "edad = 34\n",
    "peso = 89\n",
    "print(\"tu edad es: \" + str(edad) + \" y peso:\" + str(peso))  # se utiliza str para poder concatenar un entero dentro de la cadena"
   ]
  },
  {
   "cell_type": "code",
   "execution_count": 8,
   "id": "fe6d5532-9513-4c1a-bc32-b68f60d9ee3b",
   "metadata": {},
   "outputs": [
    {
     "name": "stdout",
     "output_type": "stream",
     "text": [
      "esto es True\n",
      "Tipo de dato:<class 'bool'>\n"
     ]
    }
   ],
   "source": [
    "#tipo de dato boolean\n",
    "\n",
    "\n",
    "esVerdad = True  #debe estar con la primera en mayuscula\n",
    "esFalso = False  #debe estar con la primera en mayuscula\n",
    "\n",
    "if esVerdad:\n",
    "    print(\"esto es \" + str(esVerdad))\n",
    "    print(\"Tipo de dato:\" + str(type(esVerdad)))\n",
    "else:\n",
    "    print(\"esto es \" + str(esFalso))\n",
    "\n",
    "\n"
   ]
  },
  {
   "cell_type": "code",
   "execution_count": 10,
   "id": "1683e028-76d6-4614-a027-bc1c30c7afa3",
   "metadata": {},
   "outputs": [
    {
     "name": "stdin",
     "output_type": "stream",
     "text": [
      "Ingrese el nombre de primer mascota bruno\n"
     ]
    },
    {
     "name": "stdout",
     "output_type": "stream",
     "text": [
      "El tipo de dato es: <class 'str'>\n"
     ]
    }
   ],
   "source": [
    "# Tipo de dato String\n",
    "dato = input(\"Ingrese el nombre de primer mascota\")\n",
    "print(\"El tipo de dato es: \" + str(type(dato)))"
   ]
  }
 ],
 "metadata": {
  "kernelspec": {
   "display_name": "Python 3 (ipykernel)",
   "language": "python",
   "name": "python3"
  },
  "language_info": {
   "codemirror_mode": {
    "name": "ipython",
    "version": 3
   },
   "file_extension": ".py",
   "mimetype": "text/x-python",
   "name": "python",
   "nbconvert_exporter": "python",
   "pygments_lexer": "ipython3",
   "version": "3.11.5"
  }
 },
 "nbformat": 4,
 "nbformat_minor": 5
}
