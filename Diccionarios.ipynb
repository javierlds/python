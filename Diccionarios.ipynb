{
 "cells": [
  {
   "cell_type": "code",
   "execution_count": 2,
   "id": "0e306dfa-bd66-48a8-b293-bc89dafb4757",
   "metadata": {},
   "outputs": [
    {
     "name": "stdout",
     "output_type": "stream",
     "text": [
      "1\n"
     ]
    }
   ],
   "source": [
    "#Uso de diccionarios en python\n",
    "diccionario = {'opcion1': 1,\n",
    "               'opcion2': 2,\n",
    "               'opcion3': 3\n",
    "              }\n"
   ]
  },
  {
   "cell_type": "code",
   "execution_count": 4,
   "id": "0ed98a88-5678-475a-9858-308d94fe8754",
   "metadata": {},
   "outputs": [
    {
     "name": "stdout",
     "output_type": "stream",
     "text": [
      "1\n",
      "1\n"
     ]
    }
   ],
   "source": [
    "#accediendo a los elementos del diccionario:\n",
    "\n",
    "#accediendo al valor\n",
    "print(diccionario['opcion1'])"
   ]
  },
  {
   "cell_type": "code",
   "execution_count": 6,
   "id": "900f3de5-ed94-45a4-b77c-36837669be0d",
   "metadata": {},
   "outputs": [
    {
     "name": "stdout",
     "output_type": "stream",
     "text": [
      "opcion1\n",
      "opcion2\n",
      "opcion3\n",
      "1\n",
      "2\n",
      "3\n",
      "para la opcion1 su valor es: 1\n",
      "para la opcion2 su valor es: 2\n",
      "para la opcion3 su valor es: 3\n"
     ]
    }
   ],
   "source": [
    "#Recorriendo un diccionario\n",
    "\n",
    "#imprimiendo las llaves\n",
    "for clave in diccionario.keys():\n",
    "    print(clave)\n",
    "\n",
    "#imprimiendo los valores \n",
    "for clave in diccionario.values():\n",
    "    print(clave)\n",
    "\n",
    "#imprimiendo los valores clave valor\n",
    "for clave,valor in diccionario.items():\n",
    "    print(f'para la {clave} su valor es: {valor}')"
   ]
  }
 ],
 "metadata": {
  "kernelspec": {
   "display_name": "Python 3 (ipykernel)",
   "language": "python",
   "name": "python3"
  },
  "language_info": {
   "codemirror_mode": {
    "name": "ipython",
    "version": 3
   },
   "file_extension": ".py",
   "mimetype": "text/x-python",
   "name": "python",
   "nbconvert_exporter": "python",
   "pygments_lexer": "ipython3",
   "version": "3.11.5"
  }
 },
 "nbformat": 4,
 "nbformat_minor": 5
}
