{
 "cells": [
  {
   "cell_type": "code",
   "execution_count": 1,
   "id": "afd3aa5a-d966-444c-9c8d-0a5934cbb31b",
   "metadata": {},
   "outputs": [
    {
     "name": "stdout",
     "output_type": "stream",
     "text": [
      "Hola mundo\n"
     ]
    }
   ],
   "source": [
    "# Hola mundo con python\n",
    "print('Hola mundo')"
   ]
  },
  {
   "cell_type": "code",
   "execution_count": 6,
   "id": "e97bdf38-e28e-489f-820a-b6e57f61faa9",
   "metadata": {},
   "outputs": [
    {
     "name": "stdout",
     "output_type": "stream",
     "text": [
      "35\n",
      "60Javier Augusto\n",
      "Nombre  Javier Augusto  edad: 60\n"
     ]
    }
   ],
   "source": [
    "# Variables\n",
    "edad = 35\n",
    "print(edad)\n",
    "\n",
    "edad = 60\n",
    "nombre = 'Javier Augusto'\n",
    "print(str(edad) + nombre)\n",
    "\n",
    "#otra forma de concatenar\n",
    "print('Nombre ', nombre, ' edad:', edad) "
   ]
  },
  {
   "cell_type": "code",
   "execution_count": 20,
   "id": "92ae35e1-37f9-49b2-b801-8a96860689ea",
   "metadata": {},
   "outputs": [
    {
     "name": "stdout",
     "output_type": "stream",
     "text": [
      "<class 'str'>\n",
      "<class 'bool'>\n"
     ]
    }
   ],
   "source": [
    "#tipos de datos\n",
    "nombre = \"javier\"\n",
    "print(type(nombre))\n",
    "\n",
    "esVerdadero = True  #debe ser primera letra en mayuscula\n",
    "print(type(esVerdadero))"
   ]
  },
  {
   "cell_type": "code",
   "execution_count": 3,
   "id": "11760c34-255e-4374-93db-18f52ff04d1c",
   "metadata": {},
   "outputs": [
    {
     "name": "stdin",
     "output_type": "stream",
     "text": [
      "inresa tu nombre javier\n"
     ]
    },
    {
     "name": "stdout",
     "output_type": "stream",
     "text": [
      "I'm Javier\n",
      "She said \"hello\"\n",
      "Hola mi nombre es javier y mi año de nacimiento es  2024-01-02\n"
     ]
    }
   ],
   "source": [
    "import datetime\n",
    "fechaHoy =  datetime.date.today()\n",
    "\n",
    "#Uso de Strings\n",
    "nombre = input(\"inresa tu nombre\")\n",
    "\n",
    "usoComillas = \"I'm Javier\"\n",
    "print(usoComillas)\n",
    "\n",
    "usoComillas2 = 'She said \"hello\"'\n",
    "print(usoComillas2)\n",
    "\n",
    "#Uso de format\n",
    "texto = f\"Hola mi nombre es {nombre} y mi año de nacimiento es  {fechaHoy}\"\n",
    "print(texto)\n"
   ]
  },
  {
   "cell_type": "code",
   "execution_count": 17,
   "id": "fb2bcbcd-fddf-4def-b5f1-9f45cf67f1b9",
   "metadata": {},
   "outputs": [
    {
     "name": "stdin",
     "output_type": "stream",
     "text": [
      "Ingrese su nombre javier\n",
      "Ingrese su año de nacimiento 1988\n"
     ]
    },
    {
     "name": "stdout",
     "output_type": "stream",
     "text": [
      "javier tienes 35 años\n"
     ]
    }
   ],
   "source": [
    "# Uso de funciones y concatenacion de String con f\n",
    "import datetime\n",
    "\n",
    "def calcularEdad(nombre, anioNacimiento):\n",
    "    fechaHoy =  datetime.date.today()\n",
    "    anioActual = fechaHoy.year\n",
    "    return anioActual - int(anioNacimiento)\n",
    "\n",
    "nombre = input(\"Ingrese su nombre\")\n",
    "anioNacimiento = input(\"Ingrese su año de nacimiento\")\n",
    "edad = calcularEdad(nombre,anioNacimiento)\n",
    "print(f\"{nombre} tienes {edad} años\")  #Otra forma de concatenar"
   ]
  },
  {
   "cell_type": "code",
   "execution_count": 8,
   "id": "00065eb8-2b26-4d13-a71b-cd450f4793b8",
   "metadata": {},
   "outputs": [
    {
     "name": "stdout",
     "output_type": "stream",
     "text": [
      "la edad 52 es mayor que la edad 45\n",
      "la edad 52 es igual a 52\n"
     ]
    }
   ],
   "source": [
    "#Operadores de comparacion  < , <=, >, >=,  !=   , ==\n",
    "edad1 = 52\n",
    "edad2 = 45\n",
    "edad3 = 52\n",
    "\n",
    "if edad1 > edad2:\n",
    "    print(f\"la edad {edad1} es mayor que la edad {edad2}\")\n",
    "\n",
    "# distinto de\n",
    "if edad1 != edad3:\n",
    "    print(f\"la edad {edad1} es diferente a la edad {edad2}\")\n",
    "elif edad1 == edad3:\n",
    "    print(f\"la edad {edad1} es igual a {edad3}\")\n",
    "    "
   ]
  },
  {
   "cell_type": "code",
   "execution_count": 12,
   "id": "b3085900-04f7-469a-816a-a97a4d7009b0",
   "metadata": {},
   "outputs": [
    {
     "name": "stdout",
     "output_type": "stream",
     "text": [
      "x =3.3 \n",
      "y =3.3000000000000003 \n",
      "4.440892098500626e-16\n"
     ]
    }
   ],
   "source": [
    "# Comparacion de numeros flotantes\n",
    "x = 3.3\n",
    "y = 1.1 + 2.2\n",
    "print(f\"x ={x} \")\n",
    "print(f\"y ={y} \")\n",
    "print(abs(x-y))\n",
    "tolerance = 0.00001\n",
    "\n",
    "\n"
   ]
  },
  {
   "cell_type": "code",
   "execution_count": 5,
   "id": "e401f316-0523-424d-98d3-135e58047fde",
   "metadata": {},
   "outputs": [
    {
     "name": "stdin",
     "output_type": "stream",
     "text": [
      "¿Edad?  3\n"
     ]
    },
    {
     "name": "stdout",
     "output_type": "stream",
     "text": [
      "No puede votar\n"
     ]
    }
   ],
   "source": [
    "try:\n",
    "    age = int(input('¿Edad? '))\n",
    "    puede_votar = not age < 18\n",
    "    if puede_votar == False:\n",
    "        print('No puede votar')\n",
    "except:\n",
    "    print('Escribe tu edad en número entero')\n",
    "\n"
   ]
  }
 ],
 "metadata": {
  "kernelspec": {
   "display_name": "Python 3 (ipykernel)",
   "language": "python",
   "name": "python3"
  },
  "language_info": {
   "codemirror_mode": {
    "name": "ipython",
    "version": 3
   },
   "file_extension": ".py",
   "mimetype": "text/x-python",
   "name": "python",
   "nbconvert_exporter": "python",
   "pygments_lexer": "ipython3",
   "version": "3.11.5"
  }
 },
 "nbformat": 4,
 "nbformat_minor": 5
}
