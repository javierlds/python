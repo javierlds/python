{
 "cells": [
  {
   "cell_type": "code",
   "execution_count": 1,
   "id": "afd3aa5a-d966-444c-9c8d-0a5934cbb31b",
   "metadata": {},
   "outputs": [
    {
     "name": "stdout",
     "output_type": "stream",
     "text": [
      "Hola mundo\n"
     ]
    }
   ],
   "source": [
    "# Hola mundo con python\n",
    "print('Hola mundo')"
   ]
  },
  {
   "cell_type": "code",
   "execution_count": 6,
   "id": "e97bdf38-e28e-489f-820a-b6e57f61faa9",
   "metadata": {},
   "outputs": [
    {
     "name": "stdout",
     "output_type": "stream",
     "text": [
      "35\n",
      "60Javier Augusto\n",
      "Nombre  Javier Augusto  edad: 60\n"
     ]
    }
   ],
   "source": [
    "# Variables\n",
    "edad = 35\n",
    "print(edad)\n",
    "\n",
    "edad = 60\n",
    "nombre = 'Javier Augusto'\n",
    "print(str(edad) + nombre)\n",
    "\n",
    "#otra forma de concatenar\n",
    "print('Nombre ', nombre, ' edad:', edad) "
   ]
  },
  {
   "cell_type": "code",
   "execution_count": 20,
   "id": "92ae35e1-37f9-49b2-b801-8a96860689ea",
   "metadata": {},
   "outputs": [
    {
     "name": "stdout",
     "output_type": "stream",
     "text": [
      "<class 'str'>\n",
      "<class 'bool'>\n"
     ]
    }
   ],
   "source": [
    "#tipos de datos\n",
    "nombre = \"javier\"\n",
    "print(type(nombre))\n",
    "\n",
    "esVerdadero = True  #debe ser primera letra en mayuscula\n",
    "print(type(esVerdadero))"
   ]
  },
  {
   "cell_type": "code",
   "execution_count": 23,
   "id": "11760c34-255e-4374-93db-18f52ff04d1c",
   "metadata": {},
   "outputs": [
    {
     "name": "stdout",
     "output_type": "stream",
     "text": [
      "I'm Javier\n",
      "She said \"hello\"\n"
     ]
    }
   ],
   "source": [
    "import datetime\n",
    "fechaHoy =  datetime.date.today()\n",
    "\n",
    "#Uso de Strings\n",
    "nombre = input(\"inresa tu nombre\")\n",
    "\n",
    "usoComillas = \"I'm Javier\"\n",
    "print(usoComillas)\n",
    "\n",
    "usoComillas2 = 'She said \"hello\"'\n",
    "print(usoComillas2)\n",
    "\n",
    "#Uso de format\n",
    "texto = \"Hola mi nombre es {} y mi año de nacimiento es  {}\".format(nombre,anioActual)\n",
    "print(f\"\")\n"
   ]
  },
  {
   "cell_type": "code",
   "execution_count": 17,
   "id": "fb2bcbcd-fddf-4def-b5f1-9f45cf67f1b9",
   "metadata": {},
   "outputs": [
    {
     "name": "stdin",
     "output_type": "stream",
     "text": [
      "Ingrese su nombre javier\n",
      "Ingrese su año de nacimiento 1988\n"
     ]
    },
    {
     "name": "stdout",
     "output_type": "stream",
     "text": [
      "javier tienes 35 años\n"
     ]
    }
   ],
   "source": [
    "# Uso de funciones y concatenacion de String con f\n",
    "import datetime\n",
    "\n",
    "def calcularEdad(nombre, anioNacimiento):\n",
    "    fechaHoy =  datetime.date.today()\n",
    "    anioActual = fechaHoy.year\n",
    "    return anioActual - int(anioNacimiento)\n",
    "\n",
    "nombre = input(\"Ingrese su nombre\")\n",
    "anioNacimiento = input(\"Ingrese su año de nacimiento\")\n",
    "edad = calcularEdad(nombre,anioNacimiento)\n",
    "print(f\"{nombre} tienes {edad} años\")  #Otra forma de concatenar"
   ]
  }
 ],
 "metadata": {
  "kernelspec": {
   "display_name": "Python 3 (ipykernel)",
   "language": "python",
   "name": "python3"
  },
  "language_info": {
   "codemirror_mode": {
    "name": "ipython",
    "version": 3
   },
   "file_extension": ".py",
   "mimetype": "text/x-python",
   "name": "python",
   "nbconvert_exporter": "python",
   "pygments_lexer": "ipython3",
   "version": "3.11.5"
  }
 },
 "nbformat": 4,
 "nbformat_minor": 5
}
