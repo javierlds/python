{
 "cells": [
  {
   "cell_type": "code",
   "execution_count": 5,
   "id": "828adf78-5000-4d9b-8b04-087540cf2282",
   "metadata": {},
   "outputs": [
    {
     "name": "stdout",
     "output_type": "stream",
     "text": [
      "la longitud de la cadena \"javierjavierjavier\" es 18\n"
     ]
    }
   ],
   "source": [
    "# utilizando los principales operadores\n",
    "nombre = \"javier\"\n",
    "nombre   *= 3\n",
    "longitud = f'la longitud de la cadena \"{nombre}\" es {len(nombre)}'\n",
    "print(longitud)"
   ]
  },
  {
   "cell_type": "code",
   "execution_count": 15,
   "id": "6272f174-32de-4bc7-819b-8fba6450ffeb",
   "metadata": {},
   "outputs": [
    {
     "name": "stdin",
     "output_type": "stream",
     "text": [
      "Ingrese primero numero 4\n",
      "ingrese el numero por el cual quiere dividir 56\n"
     ]
    },
    {
     "name": "stdout",
     "output_type": "stream",
     "text": [
      "el total de dividir 4 entre 56 es : 0\n"
     ]
    }
   ],
   "source": [
    "#Capturar solo numero entero en una division\n",
    "while True:\n",
    "    try:\n",
    "        numero1 = int(input(\"Ingrese primero numero\"))\n",
    "        numero2 = int(input(\"ingrese el numero por el cual quiere dividir\"))\n",
    "        total = numero1 // numero2\n",
    "        print(f\"el total de dividir {numero1} entre {numero2} es : {total}\")\n",
    "        break\n",
    "    except ValueError:  #control de excepcion\n",
    "        print(\"Por favor ingrese un numero valido\")"
   ]
  },
  {
   "cell_type": "code",
   "execution_count": 18,
   "id": "81f46dff-881b-42c8-bd57-09064b5718b9",
   "metadata": {},
   "outputs": [
    {
     "name": "stdin",
     "output_type": "stream",
     "text": [
      "Ingresa un numero 3\n",
      "Ingresa el exponencial 56\n"
     ]
    },
    {
     "name": "stdout",
     "output_type": "stream",
     "text": [
      "el numero 3 eleveado a la 56 es igual a: 523347633027360537213511521\n"
     ]
    }
   ],
   "source": [
    "while True: \n",
    "    try: \n",
    "        numero = int(input(\"Ingresa un numero\")) \n",
    "        exponencial = int(input(\"Ingresa el exponencial\")) \n",
    "        total = numero**exponencial \n",
    "        print(f\"el numero {numero} eleveado a la {exponencial} es igual a: {total}\") \n",
    "        break\n",
    "    except ValueError: print('** Por favor ingresa un numero valido ****')"
   ]
  }
 ],
 "metadata": {
  "kernelspec": {
   "display_name": "Python 3 (ipykernel)",
   "language": "python",
   "name": "python3"
  },
  "language_info": {
   "codemirror_mode": {
    "name": "ipython",
    "version": 3
   },
   "file_extension": ".py",
   "mimetype": "text/x-python",
   "name": "python",
   "nbconvert_exporter": "python",
   "pygments_lexer": "ipython3",
   "version": "3.11.5"
  }
 },
 "nbformat": 4,
 "nbformat_minor": 5
}
