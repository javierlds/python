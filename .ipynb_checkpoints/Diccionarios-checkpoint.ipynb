{
 "cells": [
  {
   "cell_type": "code",
   "execution_count": 6,
   "id": "0e306dfa-bd66-48a8-b293-bc89dafb4757",
   "metadata": {},
   "outputs": [],
   "source": [
    "#Uso de diccionarios en python\n",
    "diccionario = {1:'opcion1',\n",
    "               2:'opcion2',\n",
    "               3:'opcion3'\n",
    "              }\n"
   ]
  },
  {
   "cell_type": "code",
   "execution_count": 4,
   "id": "0ed98a88-5678-475a-9858-308d94fe8754",
   "metadata": {},
   "outputs": [
    {
     "name": "stdout",
     "output_type": "stream",
     "text": [
      "1\n",
      "1\n"
     ]
    }
   ],
   "source": [
    "#accediendo a los elementos del diccionario:\n",
    "\n",
    "#accediendo al valor\n",
    "print(diccionario['opcion1'])"
   ]
  },
  {
   "cell_type": "code",
   "execution_count": 8,
   "id": "900f3de5-ed94-45a4-b77c-36837669be0d",
   "metadata": {},
   "outputs": [
    {
     "name": "stdout",
     "output_type": "stream",
     "text": [
      "1\n",
      "2\n",
      "3\n",
      "opcion1\n",
      "opcion2\n",
      "opcion3\n",
      "para la 1 su valor es: opcion1\n",
      "para la 2 su valor es: opcion2\n",
      "para la 3 su valor es: opcion3\n",
      "opcion1\n"
     ]
    }
   ],
   "source": [
    "#Recorriendo un diccionario\n",
    "\n",
    "#imprimiendo las llaves\n",
    "for clave in diccionario.keys():\n",
    "    print(clave)\n",
    "\n",
    "#imprimiendo los valores \n",
    "for clave in diccionario.values():\n",
    "    print(clave)\n",
    "\n",
    "#imprimiendo los valores clave valor\n",
    "for clave,valor in diccionario.items():\n",
    "    print(f'para la {clave} su valor es: {valor}')\n",
    "\n",
    "#imprimiendo un solo valor del diccionario\n",
    "print(diccionario[1])\n"
   ]
  },
  {
   "cell_type": "code",
   "execution_count": 24,
   "id": "ad72ad9b-d6b0-40a0-8806-783cd27068f7",
   "metadata": {},
   "outputs": [
    {
     "name": "stdout",
     "output_type": "stream",
     "text": [
      "5\n"
     ]
    }
   ],
   "source": [
    "#Utilizando opcion random\n",
    "import random\n",
    "valores = [1,2,3,4,5,6,7]\n",
    "valor = random.choice(valores)\n",
    "print(valor)"
   ]
  }
 ],
 "metadata": {
  "kernelspec": {
   "display_name": "Python 3 (ipykernel)",
   "language": "python",
   "name": "python3"
  },
  "language_info": {
   "codemirror_mode": {
    "name": "ipython",
    "version": 3
   },
   "file_extension": ".py",
   "mimetype": "text/x-python",
   "name": "python",
   "nbconvert_exporter": "python",
   "pygments_lexer": "ipython3",
   "version": "3.11.5"
  }
 },
 "nbformat": 4,
 "nbformat_minor": 5
}
