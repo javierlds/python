{
 "cells": [
  {
   "cell_type": "code",
   "execution_count": 34,
   "id": "86221b2f-08ac-46b5-abfd-0b88e2b5c5ad",
   "metadata": {},
   "outputs": [
    {
     "name": "stdout",
     "output_type": "stream",
     "text": [
      "[1, 2, 3]\n",
      "opcion: 1\n",
      "Opcion de juego: piedra\n",
      "7\n"
     ]
    }
   ],
   "source": [
    "import random\n",
    "\"\"\"\n",
    "list(...): Convertimos las claves en una lista. Esto es necesario porque la función random.choice() espera \n",
    "recibir una secuencia (como una lista) para elegir un elemento aleatorio de ella\n",
    "\"\"\"\n",
    "puntaje_jug1 = 0\n",
    "puntaje_jug2 = 0\n",
    "\n",
    "def jugar(jugador):\n",
    "    texto2 = \"A JUGAR !!!!!\"\n",
    "    maquina\n",
    "    return opcionesJuego = {1: \"piedra\", 2:\"papel\", 3:\"tijera\"}\n",
    "\n",
    "def\n",
    "\n",
    "opcionAleatoria = random.choice(list(opcionesJuego.keys()))\n",
    "print(list(opcionesJuego.keys())) #lista\n",
    "print(\"opcion: \" + str(opcionAleatoria))\n",
    "print(\"Opcion de juego:\", opcionesJuego[opcionAleatoria])\n",
    "\n",
    "if __name__ == '__main__':\n",
    "    texto = \"******* BIENVENIDO A PIEDRA PAPEL O TIJERA!!\"\n",
    "    print(texto)\n",
    "    jugador1 = input('Jugador 1, ingresa tu nombre:')\n",
    "    jugador2 = input('Jugador 2, ingresa tu nombre:')\n",
    "\n",
    "    texto2 = \"Sorteando de juego ...........\"\n",
    "    print(texto)\n",
    "    sorteo = [1,2]\n",
    "    opcionSorteo = random.choice(sorteo)\n",
    "    if opcionSorteo == 1:\n",
    "        print(f\"Empieza el jugador # {jugador1}\")\n",
    "        jugar(jugador1)\n",
    "    else:\n",
    "        print(f\"Empieza el jugador # {jugador2}\")\n",
    "        jugar(jugador2)\n",
    "        \n",
    "    \n",
    "\n",
    "\n",
    "\n",
    "\n",
    "\n",
    "\n",
    "\n",
    " \n",
    "\n",
    "\n",
    "\n",
    "\n",
    "\n",
    "\n"
   ]
  }
 ],
 "metadata": {
  "kernelspec": {
   "display_name": "Python 3 (ipykernel)",
   "language": "python",
   "name": "python3"
  },
  "language_info": {
   "codemirror_mode": {
    "name": "ipython",
    "version": 3
   },
   "file_extension": ".py",
   "mimetype": "text/x-python",
   "name": "python",
   "nbconvert_exporter": "python",
   "pygments_lexer": "ipython3",
   "version": "3.11.5"
  }
 },
 "nbformat": 4,
 "nbformat_minor": 5
}
