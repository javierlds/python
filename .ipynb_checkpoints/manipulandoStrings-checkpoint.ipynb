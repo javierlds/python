{
 "cells": [
  {
   "cell_type": "code",
   "execution_count": 4,
   "id": "2659c9ef-8f88-4018-945f-467d71d0cd14",
   "metadata": {},
   "outputs": [
    {
     "name": "stdin",
     "output_type": "stream",
     "text": [
      "digite su nombre javier \n",
      "digite su edad 35\n"
     ]
    },
    {
     "name": "stdout",
     "output_type": "stream",
     "text": [
      "tu nombre es: javier  y tienes 35\n"
     ]
    }
   ],
   "source": [
    "#Manipulando strings con python\n",
    "#concatenacion de cadenas\n",
    "\n",
    "str1 = input(\"digite su nombre\")\n",
    "str2 = input(\"digite su edad\")\n",
    "print(\"tu nombre es: \" + str1 + \" y tienes \"+  str2)"
   ]
  },
  {
   "cell_type": "code",
   "execution_count": 5,
   "id": "a90a8a78-2c94-4960-8b90-cdd5fe91b92d",
   "metadata": {},
   "outputs": [
    {
     "name": "stdin",
     "output_type": "stream",
     "text": [
      "digite su nombre javier augusto paez\n"
     ]
    },
    {
     "name": "stdout",
     "output_type": "stream",
     "text": [
      "no tiene el acceso permitido\n"
     ]
    }
   ],
   "source": [
    "# Para la longitud de una cadena\n",
    "nombre = input(\"digite su nombre\")\n",
    "if len(nombre) >7:\n",
    "    print(\"no tiene el acceso permitido\")\n",
    "else:\n",
    "    print(\"tiene acceso al sistema\")\n"
   ]
  },
  {
   "cell_type": "code",
   "execution_count": 6,
   "id": "d448852d-7b16-45cb-be3c-90b0df2a1936",
   "metadata": {},
   "outputs": [
    {
     "name": "stdout",
     "output_type": "stream",
     "text": [
      "My text\n",
      "texto nuevo\n"
     ]
    }
   ],
   "source": [
    "text = 'My text'\n",
    "print(text)\n",
    "\n",
    "# Modifica la variable text por un número y luego imprímelo 👇\n",
    "text = 'texto nuevo'\n",
    "print(text)"
   ]
  }
 ],
 "metadata": {
  "kernelspec": {
   "display_name": "Python 3 (ipykernel)",
   "language": "python",
   "name": "python3"
  },
  "language_info": {
   "codemirror_mode": {
    "name": "ipython",
    "version": 3
   },
   "file_extension": ".py",
   "mimetype": "text/x-python",
   "name": "python",
   "nbconvert_exporter": "python",
   "pygments_lexer": "ipython3",
   "version": "3.11.5"
  }
 },
 "nbformat": 4,
 "nbformat_minor": 5
}
