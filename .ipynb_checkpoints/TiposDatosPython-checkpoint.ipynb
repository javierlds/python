{
 "cells": [
  {
   "cell_type": "code",
   "execution_count": 17,
   "id": "04fd3079-884a-413b-9a29-81c80cf9f82f",
   "metadata": {},
   "outputs": [
    {
     "name": "stdout",
     "output_type": "stream",
     "text": [
      "tu edad es: 34 y peso:89\n",
      "tu edad es 34 y peso es 89\n"
     ]
    }
   ],
   "source": [
    "#Tipo de dato int\n",
    "edad = 34\n",
    "peso = 89\n",
    "print(\"tu edad es: \" + str(edad) + \" y peso:\" + str(peso))  # se utiliza str para poder concatenar un entero dentro de la cadena\n",
    "\n",
    "#usando transformacion de datos sin STR, esto gracias al uso de format\n",
    "print(f'tu edad es {edad} y peso es {peso}')"
   ]
  },
  {
   "cell_type": "code",
   "execution_count": 22,
   "id": "2a9667b0-5367-4e26-a130-899a37f6bcb5",
   "metadata": {},
   "outputs": [
    {
     "name": "stdin",
     "output_type": "stream",
     "text": [
      "digita tu edad ffff\n"
     ]
    },
    {
     "ename": "ValueError",
     "evalue": "invalid literal for int() with base 10: 'ffff'",
     "output_type": "error",
     "traceback": [
      "\u001b[1;31m---------------------------------------------------------------------------\u001b[0m",
      "\u001b[1;31mValueError\u001b[0m                                Traceback (most recent call last)",
      "Cell \u001b[1;32mIn[22], line 2\u001b[0m\n\u001b[0;32m      1\u001b[0m \u001b[38;5;66;03m#utilizando funcion format y transformacion anidada en una sola cadena\u001b[39;00m\n\u001b[1;32m----> 2\u001b[0m dato \u001b[38;5;241m=\u001b[39m \u001b[38;5;28;43mint\u001b[39;49m\u001b[43m(\u001b[49m\u001b[38;5;28;43minput\u001b[39;49m\u001b[43m(\u001b[49m\u001b[38;5;124;43m\"\u001b[39;49m\u001b[38;5;124;43mdigita tu edad\u001b[39;49m\u001b[38;5;124;43m\"\u001b[39;49m\u001b[43m)\u001b[49m\u001b[43m)\u001b[49m\n\u001b[0;32m      3\u001b[0m aumento \u001b[38;5;241m=\u001b[39m \u001b[38;5;28mint\u001b[39m(\u001b[38;5;28minput\u001b[39m(\u001b[38;5;124m\"\u001b[39m\u001b[38;5;124mCuantos años quieres aumentar a tu edad?, digita el valor\u001b[39m\u001b[38;5;124m\"\u001b[39m))\n\u001b[0;32m      4\u001b[0m dato1 \u001b[38;5;241m=\u001b[39m dato \u001b[38;5;241m+\u001b[39m aumento\n",
      "\u001b[1;31mValueError\u001b[0m: invalid literal for int() with base 10: 'ffff'"
     ]
    }
   ],
   "source": [
    "#utilizando funcion format y transformacion anidada en una sola cadena\n",
    "dato = int(input(\"digita tu edad\"))\n",
    "aumento = int(input(\"Cuantos años quieres aumentar a tu edad?, digita el valor\"))\n",
    "dato1 = dato + aumento\n",
    "print(f\"tu edad en {aumento} años sera {dato1} años\")"
   ]
  },
  {
   "cell_type": "code",
   "execution_count": 23,
   "id": "28de5112-0f09-42a8-9268-103409f27155",
   "metadata": {},
   "outputs": [
    {
     "name": "stdin",
     "output_type": "stream",
     "text": [
      "digita tu edad RR\n"
     ]
    },
    {
     "name": "stdout",
     "output_type": "stream",
     "text": [
      "Por favor ingrese un numero valido.\n"
     ]
    },
    {
     "name": "stdin",
     "output_type": "stream",
     "text": [
      "digita tu edad 54\n",
      "Cuantos años quieres aumentar a tu edad?, digita el valor RR\n"
     ]
    },
    {
     "name": "stdout",
     "output_type": "stream",
     "text": [
      "Por favor ingrese un numero valido.\n"
     ]
    },
    {
     "name": "stdin",
     "output_type": "stream",
     "text": [
      "digita tu edad 45\n",
      "Cuantos años quieres aumentar a tu edad?, digita el valor 12\n"
     ]
    },
    {
     "name": "stdout",
     "output_type": "stream",
     "text": [
      "tu edad en 12 años sera 57 años\n"
     ]
    }
   ],
   "source": [
    "#Utilizando excepciones para controlar los datos de ingreso con TRY \n",
    "while True:\n",
    "    try:\n",
    "        dato = int(input(\"digita tu edad\"))\n",
    "        aumento = int(input(\"Cuantos años quieres aumentar a tu edad?, digita el valor\"))\n",
    "        dato1 = dato + aumento\n",
    "        print(f\"tu edad en {aumento} años sera {dato1} años\")\n",
    "        break #si no hay errores sale del bucle\n",
    "    except ValueError:\n",
    "        print(\"Por favor ingrese un numero valido.\")"
   ]
  },
  {
   "cell_type": "code",
   "execution_count": 13,
   "id": "df97e390-ce64-48a9-8712-7d1ea2a498d5",
   "metadata": {},
   "outputs": [
    {
     "name": "stdout",
     "output_type": "stream",
     "text": [
      "Vidas iniciando: 5\n",
      "aumento vidas a: 7\n",
      "disminuyendo vidas: 3\n"
     ]
    }
   ],
   "source": [
    "#utilizando += o -=\n",
    "vidas = 5\n",
    "print(f\"Vidas iniciando: {vidas}\")\n",
    "vidas += 2\n",
    "print(f\"aumento vidas a: {vidas}\")\n",
    "vidas -= 4\n",
    "print(f\"disminuyendo vidas: {vidas}\")"
   ]
  },
  {
   "cell_type": "code",
   "execution_count": 16,
   "id": "fe6d5532-9513-4c1a-bc32-b68f60d9ee3b",
   "metadata": {},
   "outputs": [
    {
     "name": "stdout",
     "output_type": "stream",
     "text": [
      "esto es True\n",
      "Tipo de dato:<class 'bool'>\n",
      "el valor ahora es False\n"
     ]
    }
   ],
   "source": [
    "#tipo de dato boolean\n",
    "\n",
    "\n",
    "esVerdad = True  #debe estar con la primera en mayuscula\n",
    "esFalso = False  #debe estar con la primera en mayuscula\n",
    "\n",
    "if esVerdad:\n",
    "    print(\"esto es \" + str(esVerdad))\n",
    "    print(\"Tipo de dato:\" + str(type(esVerdad)))\n",
    "else:\n",
    "    print(\"esto es \" + str(esFalso))\n",
    "\n",
    "#negando el boolean\n",
    "negando1 = not esVerdad\n",
    "print(f\"el valor ahora es {negando1}\")\n",
    "\n"
   ]
  },
  {
   "cell_type": "code",
   "execution_count": 10,
   "id": "1683e028-76d6-4614-a027-bc1c30c7afa3",
   "metadata": {},
   "outputs": [
    {
     "name": "stdin",
     "output_type": "stream",
     "text": [
      "Ingrese el nombre de primer mascota bruno\n"
     ]
    },
    {
     "name": "stdout",
     "output_type": "stream",
     "text": [
      "El tipo de dato es: <class 'str'>\n"
     ]
    }
   ],
   "source": [
    "# Tipo de dato String\n",
    "dato = input(\"Ingrese el nombre de primer mascota\")\n",
    "print(\"El tipo de dato es: \" + str(type(dato)))"
   ]
  }
 ],
 "metadata": {
  "kernelspec": {
   "display_name": "Python 3 (ipykernel)",
   "language": "python",
   "name": "python3"
  },
  "language_info": {
   "codemirror_mode": {
    "name": "ipython",
    "version": 3
   },
   "file_extension": ".py",
   "mimetype": "text/x-python",
   "name": "python",
   "nbconvert_exporter": "python",
   "pygments_lexer": "ipython3",
   "version": "3.11.5"
  }
 },
 "nbformat": 4,
 "nbformat_minor": 5
}
