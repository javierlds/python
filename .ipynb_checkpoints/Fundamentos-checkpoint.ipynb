{
 "cells": [
  {
   "cell_type": "code",
   "execution_count": 1,
   "id": "851bcca8-780d-442b-b1e3-07843e7c1194",
   "metadata": {},
   "outputs": [
    {
     "name": "stdout",
     "output_type": "stream",
     "text": [
      "Hola mundo\n"
     ]
    }
   ],
   "source": [
    "print('Hola mundo')"
   ]
  },
  {
   "cell_type": "code",
   "execution_count": 5,
   "id": "b748fd37-73d3-4974-9d5a-eb0335b82d7f",
   "metadata": {},
   "outputs": [
    {
     "name": "stdout",
     "output_type": "stream",
     "text": [
      "suma13\n"
     ]
    }
   ],
   "source": [
    "#comentario en python\n",
    "def funciona(a,b):\n",
    "    z = a + b\n",
    "    return z\n",
    "\n",
    "print('suma:' + str(funciona(6,7)))"
   ]
  },
  {
   "cell_type": "code",
   "execution_count": 1,
   "id": "3cfdfc46-7d4a-49de-a084-a7315e208a4b",
   "metadata": {},
   "outputs": [
    {
     "data": {
      "text/plain": [
       "2"
      ]
     },
     "execution_count": 1,
     "metadata": {},
     "output_type": "execute_result"
    }
   ],
   "source": [
    "\"\"\"\n",
    "comentario varias lineas \n",
    "hjhh\n",
    "\"\"\"\n",
    "1 +1"
   ]
  },
  {
   "cell_type": "code",
   "execution_count": 2,
   "id": "92d77de5-3c78-4365-b536-f5a3f1c8e58b",
   "metadata": {},
   "outputs": [
    {
     "name": "stdout",
     "output_type": "stream",
     "text": [
      "javier augusto paez\n"
     ]
    }
   ],
   "source": [
    "#Variables en python\n",
    "nombre = \"javier augusto paez\"\n",
    "print(nombre)"
   ]
  },
  {
   "cell_type": "code",
   "execution_count": 4,
   "id": "dad2a28c-cfc2-4bcd-8b25-390203b0ced1",
   "metadata": {},
   "outputs": [
    {
     "name": "stdout",
     "output_type": "stream",
     "text": [
      "<class 'str'>\n"
     ]
    },
    {
     "name": "stdin",
     "output_type": "stream",
     "text": [
      "digite su nombre 35\n"
     ]
    },
    {
     "name": "stdout",
     "output_type": "stream",
     "text": [
      "<class 'int'>\n"
     ]
    }
   ],
   "source": [
    "#para ver el tipo de dato de una variable, se debe usar TYPE.\n",
    "apellido = \"paez\"\n",
    "print(type(apellido))\n",
    "\n",
    "edad = int(input(\"digite su edad\"))\n",
    "print(type(edad))"
   ]
  }
 ],
 "metadata": {
  "kernelspec": {
   "display_name": "Python 3 (ipykernel)",
   "language": "python",
   "name": "python3"
  },
  "language_info": {
   "codemirror_mode": {
    "name": "ipython",
    "version": 3
   },
   "file_extension": ".py",
   "mimetype": "text/x-python",
   "name": "python",
   "nbconvert_exporter": "python",
   "pygments_lexer": "ipython3",
   "version": "3.11.5"
  }
 },
 "nbformat": 4,
 "nbformat_minor": 5
}
