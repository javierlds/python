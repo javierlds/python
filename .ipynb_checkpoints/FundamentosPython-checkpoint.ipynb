{
 "cells": [
  {
   "cell_type": "code",
   "execution_count": 1,
   "id": "afd3aa5a-d966-444c-9c8d-0a5934cbb31b",
   "metadata": {},
   "outputs": [
    {
     "name": "stdout",
     "output_type": "stream",
     "text": [
      "Hola mundo\n"
     ]
    }
   ],
   "source": [
    "# Hola mundo con python\n",
    "print('Hola mundo')"
   ]
  },
  {
   "cell_type": "code",
   "execution_count": null,
   "id": "e97bdf38-e28e-489f-820a-b6e57f61faa9",
   "metadata": {},
   "outputs": [],
   "source": [
    "# Variables"
   ]
  }
 ],
 "metadata": {
  "kernelspec": {
   "display_name": "Python 3 (ipykernel)",
   "language": "python",
   "name": "python3"
  },
  "language_info": {
   "codemirror_mode": {
    "name": "ipython",
    "version": 3
   },
   "file_extension": ".py",
   "mimetype": "text/x-python",
   "name": "python",
   "nbconvert_exporter": "python",
   "pygments_lexer": "ipython3",
   "version": "3.11.5"
  }
 },
 "nbformat": 4,
 "nbformat_minor": 5
}
