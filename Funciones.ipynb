{
 "cells": [
  {
   "cell_type": "code",
   "execution_count": 10,
   "id": "2228ad59-3128-4df6-a8aa-d7d7409abd7a",
   "metadata": {},
   "outputs": [
    {
     "name": "stdin",
     "output_type": "stream",
     "text": [
      "Ingresa tu edad: 12\n",
      "Cuantos años quieres aumentar a tu edad?, indica un numero: ff\n"
     ]
    },
    {
     "name": "stdout",
     "output_type": "stream",
     "text": [
      "Por favor ingresa un numero valido de aumento\n"
     ]
    },
    {
     "name": "stdin",
     "output_type": "stream",
     "text": [
      "Cuantos años quieres aumentar a tu edad?, indica un numero: 56\n"
     ]
    },
    {
     "name": "stdout",
     "output_type": "stream",
     "text": [
      "tu edad aumentada es igual a:68 \n"
     ]
    }
   ],
   "source": [
    "def obtenerEdad():\n",
    "    while True:\n",
    "        try:\n",
    "            edad = int(input(\"Ingresa tu edad:\"))\n",
    "            return edad\n",
    "        except ValueError:\n",
    "            print(\"Por favor ingresa un numero valido\")\n",
    "            \n",
    "def aumentarEdad(edadInp):\n",
    "    while True:\n",
    "        try:\n",
    "            aumento = int(input('Cuantos años quieres aumentar a tu edad?, indica un numero:'))\n",
    "            edadAumenta = edadInp + aumento\n",
    "            return edadAumenta\n",
    "        except ValueError:\n",
    "            print(\"Por favor ingresa un numero valido de aumento\")\n",
    "        \n",
    "    \n",
    "\n",
    "if __name__ == '__main__':\n",
    "    print(f\"tu edad aumentada es igual a:{aumentarEdad(obtenerEdad())} \") \n",
    "    "
   ]
  },
  {
   "cell_type": "code",
   "execution_count": 12,
   "id": "b6a81792-71af-4478-82b7-09d501aca35a",
   "metadata": {},
   "outputs": [
    {
     "name": "stdout",
     "output_type": "stream",
     "text": [
      "Juana\n",
      "10\n",
      "Hola mi nombre es Juana y en 10 años tendre: 20\n"
     ]
    }
   ],
   "source": [
    "name = 'Juana'\n",
    "print(name)\n",
    "age = 10\n",
    "print(age)\n",
    "age2 = age +10\n",
    "print(f'Hola mi nombre es {name} y en {age} años tendre: {age2}')"
   ]
  }
 ],
 "metadata": {
  "kernelspec": {
   "display_name": "Python 3 (ipykernel)",
   "language": "python",
   "name": "python3"
  },
  "language_info": {
   "codemirror_mode": {
    "name": "ipython",
    "version": 3
   },
   "file_extension": ".py",
   "mimetype": "text/x-python",
   "name": "python",
   "nbconvert_exporter": "python",
   "pygments_lexer": "ipython3",
   "version": "3.11.5"
  }
 },
 "nbformat": 4,
 "nbformat_minor": 5
}
